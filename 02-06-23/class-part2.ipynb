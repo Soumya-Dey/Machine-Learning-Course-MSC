{
 "cells": [
  {
   "cell_type": "code",
   "execution_count": 1,
   "metadata": {},
   "outputs": [],
   "source": [
    "import matplotlib.pyplot as plt\n",
    "from scipy import stats\n",
    "import numpy as np"
   ]
  },
  {
   "cell_type": "code",
   "execution_count": 2,
   "metadata": {},
   "outputs": [],
   "source": [
    "x = [5,7,8,7,2,17,2,9,4,11,12,9,6]\n",
    "y = [99,86,87,88,111,86,103,87,94,78,77,85,86]"
   ]
  },
  {
   "cell_type": "code",
   "execution_count": 10,
   "metadata": {},
   "outputs": [
    {
     "data": {
      "text/plain": [
       "array([10, 14, 16, 14,  4, 34,  4, 18,  8, 22, 24, 18, 12])"
      ]
     },
     "execution_count": 10,
     "metadata": {},
     "output_type": "execute_result"
    }
   ],
   "source": [
    "np.dot(x, 2)"
   ]
  },
  {
   "cell_type": "code",
   "execution_count": 3,
   "metadata": {},
   "outputs": [],
   "source": [
    "slope, intercept, r, p, std_err = stats.linregress(x, y)"
   ]
  },
  {
   "cell_type": "code",
   "execution_count": 4,
   "metadata": {},
   "outputs": [],
   "source": [
    "def myFunc(x):\n",
    "    return slope*x + intercept"
   ]
  },
  {
   "cell_type": "code",
   "execution_count": 11,
   "metadata": {},
   "outputs": [],
   "source": [
    "def myFuncArr(x):\n",
    "    return np.dot(x, slope) + intercept"
   ]
  },
  {
   "cell_type": "code",
   "execution_count": 14,
   "metadata": {},
   "outputs": [
    {
     "data": {
      "text/plain": [
       "array([94.34952171, 90.84694628, 89.09565857, 90.84694628, 99.60338484,\n",
       "       73.33406917, 99.60338484, 87.34437086, 96.10080942, 83.84179544,\n",
       "       82.09050773, 87.34437086, 92.598234  ])"
      ]
     },
     "execution_count": 14,
     "metadata": {},
     "output_type": "execute_result"
    }
   ],
   "source": [
    "myModel1 = myFuncArr(x)\n",
    "myModel1"
   ]
  },
  {
   "cell_type": "code",
   "execution_count": 16,
   "metadata": {},
   "outputs": [
    {
     "data": {
      "text/plain": [
       "[94.3495217071376,\n",
       " 90.84694628403237,\n",
       " 89.09565857247976,\n",
       " 90.84694628403237,\n",
       " 99.60338484179543,\n",
       " 73.33406916850626,\n",
       " 99.60338484179543,\n",
       " 87.34437086092716,\n",
       " 96.1008094186902,\n",
       " 83.84179543782193,\n",
       " 82.09050772626932,\n",
       " 87.34437086092716,\n",
       " 92.59823399558499]"
      ]
     },
     "execution_count": 16,
     "metadata": {},
     "output_type": "execute_result"
    }
   ],
   "source": [
    "myMode2 = [myFunc(i) for i in x]\n",
    "myMode2"
   ]
  },
  {
   "cell_type": "code",
   "execution_count": 17,
   "metadata": {},
   "outputs": [
    {
     "data": {
      "text/plain": [
       "[94.3495217071376,\n",
       " 90.84694628403237,\n",
       " 89.09565857247976,\n",
       " 90.84694628403237,\n",
       " 99.60338484179543,\n",
       " 73.33406916850626,\n",
       " 99.60338484179543,\n",
       " 87.34437086092716,\n",
       " 96.1008094186902,\n",
       " 83.84179543782193,\n",
       " 82.09050772626932,\n",
       " 87.34437086092716,\n",
       " 92.59823399558499]"
      ]
     },
     "execution_count": 17,
     "metadata": {},
     "output_type": "execute_result"
    }
   ],
   "source": [
    "myModel = list(map(myFunc, x))\n",
    "myModel"
   ]
  },
  {
   "cell_type": "code",
   "execution_count": 18,
   "metadata": {},
   "outputs": [
    {
     "data": {
      "image/png": "[encoded data removed]",
      "text/plain": [
       "<Figure size 432x288 with 1 Axes>"
      ]
     },
     "metadata": {
      "needs_background": "light"
     },
     "output_type": "display_data"
    }
   ],
   "source": [
    "plt.scatter(x, y)\n",
    "plt.plot(x, myModel)\n",
    "plt.show()"
   ]
  },
  {
   "cell_type": "code",
   "execution_count": 10,
   "metadata": {},
   "outputs": [
    {
     "data": {
      "text/plain": [
       "-0.758591524376155"
      ]
     },
     "execution_count": 10,
     "metadata": {},
     "output_type": "execute_result"
    }
   ],
   "source": [
    "r"
   ]
  },
  {
   "cell_type": "code",
   "execution_count": 11,
   "metadata": {},
   "outputs": [
    {
     "data": {
      "text/plain": [
       "0.0026468739224561064"
      ]
     },
     "execution_count": 11,
     "metadata": {},
     "output_type": "execute_result"
    }
   ],
   "source": [
    "p"
   ]
  },
  {
   "cell_type": "code",
   "execution_count": 24,
   "metadata": {},
   "outputs": [
    {
     "data": {
      "text/plain": [
       "85.59308314937454"
      ]
     },
     "execution_count": 24,
     "metadata": {},
     "output_type": "execute_result"
    }
   ],
   "source": [
    "speed = myFunc(10)\n",
    "speed"
   ]
  },
  {
   "cell_type": "code",
   "execution_count": 25,
   "metadata": {},
   "outputs": [
    {
     "data": {
      "text/plain": [
       "array([85.59308315])"
      ]
     },
     "execution_count": 25,
     "metadata": {},
     "output_type": "execute_result"
    }
   ],
   "source": [
    "speed1 = myFuncArr([10])\n",
    "speed1"
   ]
  },
  {
   "cell_type": "code",
   "execution_count": 41,
   "metadata": {},
   "outputs": [
    {
     "data": {
      "image/png": "[encoded data removed]",
      "text/plain": [
       "<Figure size 432x288 with 1 Axes>"
      ]
     },
     "metadata": {
      "needs_background": "light"
     },
     "output_type": "display_data"
    }
   ],
   "source": [
    "myModel = np.poly1d(np.polyfit(x, y, 3))\n",
    "myLine = np.linspace(2, 17, 100)\n",
    "\n",
    "plt.scatter(x, y)\n",
    "plt.plot(myLine, myModel(myLine))\n",
    "plt.show()"
   ]
  }
 ],
 "metadata": {
  "kernelspec": {
   "display_name": "Python 3",
   "language": "python",
   "name": "python3"
  },
  "language_info": {
   "codemirror_mode": {
    "name": "ipython",
    "version": 3
   },
   "file_extension": ".py",
   "mimetype": "text/x-python",
   "name": "python",
   "nbconvert_exporter": "python",
   "pygments_lexer": "ipython3",
   "version": "3.9.12"
  }
 },
 "nbformat": 4,
 "nbformat_minor": 2
}
